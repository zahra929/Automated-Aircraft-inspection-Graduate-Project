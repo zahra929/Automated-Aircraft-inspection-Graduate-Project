{
  "nbformat": 4,
  "nbformat_minor": 0,
  "metadata": {
    "accelerator": "GPU",
    "colab": {
      "name": "Attention_VGG19_U_NET_.ipynb",
      "provenance": [],
      "collapsed_sections": []
    },
    "kernelspec": {
      "display_name": "Python 3",
      "name": "python3"
    }
  },
  "cells": [
    {
      "cell_type": "code",
      "metadata": {
        "colab": {
          "base_uri": "https://localhost:8080/"
        },
        "id": "5SZIEEwsYzZL",
        "outputId": "fa21358d-5d0d-4152-c8e2-52370b9626e8"
      },
      "source": [
        "from google.colab import drive\n",
        "drive.mount('/content/drive')"
      ],
      "execution_count": 1,
      "outputs": [
        {
          "output_type": "stream",
          "text": [
            "Mounted at /content/drive\n"
          ],
          "name": "stdout"
        }
      ]
    },
    {
      "cell_type": "code",
      "metadata": {
        "id": "v2TYzcASYVaH"
      },
      "source": [
        "import tensorflow as tf\n",
        "import os\n",
        "import random\n",
        "import numpy as np\n",
        "\n",
        "from tqdm import tqdm\n",
        "\n",
        "from skimage.io import imread, imshow\n",
        "from skimage.transform import resize\n",
        "import matplotlib.pyplot as plt"
      ],
      "execution_count": 2,
      "outputs": []
    },
    {
      "cell_type": "code",
      "metadata": {
        "id": "BEjVwj1oYkc-"
      },
      "source": [
        "seed =42\n",
        "np.random.seed = seed\n",
        "\n",
        "IMG_WIDTH = 128\n",
        "IMG_HEIGHT = 128\n",
        "IMG_CHANNELS = 3 "
      ],
      "execution_count": 12,
      "outputs": []
    },
    {
      "cell_type": "code",
      "metadata": {
        "colab": {
          "base_uri": "https://localhost:8080/"
        },
        "id": "9fHDRCIxY3h8",
        "outputId": "94026f29-aa87-462b-ef6d-4278c506a66b"
      },
      "source": [
        "TRAIN_PATH='/content/drive/My Drive/dents/train'\n",
        "TEST_PATH='/content/drive/My Drive/dents/test'\n",
        "\n",
        "train_ids= next(os.walk(TRAIN_PATH))[1]\n",
        "test_ids= next(os.walk(TEST_PATH))[1]\n",
        "\n",
        "print(train_ids)"
      ],
      "execution_count": 13,
      "outputs": [
        {
          "output_type": "stream",
          "text": [
            "['18', '1', '10', '16', '17', '11', '13', '12', '15', '14', '22', '24', '20', '21', '2', '25', '23', '19', '27', '26', '32', '31', '33', '36', '3', '34', '29', '28', '30', '35', '42', '44', '43', '37', '40', '38', '39', '45', '4', '41', '52', '5', '47', '50', '49', '6', '51', '7', '48', '46', '8', '9']\n"
          ],
          "name": "stdout"
        }
      ]
    },
    {
      "cell_type": "code",
      "metadata": {
        "colab": {
          "base_uri": "https://localhost:8080/"
        },
        "id": "xzpfTsVIdT-b",
        "outputId": "0f13d586-4ce2-4e33-d567-e07b15311a95"
      },
      "source": [
        "X_train = np.zeros ((len(train_ids),IMG_HEIGHT,IMG_WIDTH , IMG_CHANNELS), dtype=np.uint8)\n",
        "Y_train = np.zeros(( len(train_ids),IMG_HEIGHT,IMG_WIDTH , 1 ),dtype=np.bool)\n",
        "\n",
        "print ('resizing training images and masks')\n",
        "for n, id_ in tqdm (enumerate(train_ids), total=len(train_ids)):\n",
        "     path = TRAIN_PATH + '/' +id_\n",
        "     img = imread(path + '/images/'+ id_ + '.jpg')[:,:,:IMG_CHANNELS]\n",
        "     img= resize (img, (IMG_HEIGHT,IMG_WIDTH), mode='constant', preserve_range=True)\n",
        "     X_train[n] = img\n",
        "     mask = np.zeros((IMG_HEIGHT,IMG_WIDTH , 1 ),dtype=np.bool)\n",
        "     for mask_file in next(os.walk(path +'/masks/'))[2]:\n",
        "         mask_ = imread(path + '/masks/'+ mask_file)\n",
        "         mask_ = np.expand_dims(resize (mask_, (IMG_HEIGHT,IMG_WIDTH), mode='constant', preserve_range=True),axis=-1)\n",
        "         mask = np.maximum(mask, mask_)\n",
        "     Y_train[n] = mask \n"
      ],
      "execution_count": 14,
      "outputs": [
        {
          "output_type": "stream",
          "text": [
            "\r  0%|          | 0/52 [00:00<?, ?it/s]"
          ],
          "name": "stderr"
        },
        {
          "output_type": "stream",
          "text": [
            "resizing training images and masks\n"
          ],
          "name": "stdout"
        },
        {
          "output_type": "stream",
          "text": [
            "100%|██████████| 52/52 [01:31<00:00,  1.77s/it]\n"
          ],
          "name": "stderr"
        }
      ]
    },
    {
      "cell_type": "code",
      "metadata": {
        "colab": {
          "base_uri": "https://localhost:8080/"
        },
        "id": "OL18Rdi2nKt9",
        "outputId": "e31d7b33-5503-435f-b839-4e60d3aa0b77"
      },
      "source": [
        "#test images\n",
        "\n",
        "X_test = np.zeros ((len(test_ids),IMG_HEIGHT,IMG_WIDTH, IMG_CHANNELS), dtype=np.uint8)\n",
        "sizes_test= []\n",
        "\n",
        "print ('resizing test images')\n",
        "for n, id_ in tqdm (enumerate(test_ids), total=len(test_ids)):\n",
        "     path = TEST_PATH + '/' +id_\n",
        "     img = imread(path + '/images/'+ id_ + '.jpg')[:,:,:IMG_CHANNELS]\n",
        "     sizes_test.append([img.shape[0], img.shape[1]])\n",
        "     img= resize (img, (IMG_WIDTH, IMG_HEIGHT), mode='constant', preserve_range=True)\n",
        "     X_test[n] = img\n",
        "\n",
        "print('done')\n"
      ],
      "execution_count": 15,
      "outputs": [
        {
          "output_type": "stream",
          "text": [
            "\r  0%|          | 0/6 [00:00<?, ?it/s]"
          ],
          "name": "stderr"
        },
        {
          "output_type": "stream",
          "text": [
            "resizing test images\n"
          ],
          "name": "stdout"
        },
        {
          "output_type": "stream",
          "text": [
            "100%|██████████| 6/6 [00:16<00:00,  2.75s/it]"
          ],
          "name": "stderr"
        },
        {
          "output_type": "stream",
          "text": [
            "done\n"
          ],
          "name": "stdout"
        },
        {
          "output_type": "stream",
          "text": [
            "\n"
          ],
          "name": "stderr"
        }
      ]
    },
    {
      "cell_type": "code",
      "metadata": {
        "colab": {
          "base_uri": "https://localhost:8080/",
          "height": 577
        },
        "id": "lEZlW8F4uxnk",
        "outputId": "0185bda6-fcee-48b5-e14c-2ad2070e2350"
      },
      "source": [
        "image_x= random.randint(0, len(train_ids))\n",
        "imshow(np.squeeze(X_train[image_x]))\n",
        "plt.show()\n",
        "imshow(np.squeeze(Y_train[image_x]))\n",
        "plt.show()"
      ],
      "execution_count": 16,
      "outputs": [
        {
          "output_type": "display_data",
          "data": {
            "image/png": "[encoded data removed]",
            "text/plain": [
              "<Figure size 432x288 with 1 Axes>"
            ]
          },
          "metadata": {
            "tags": [],
            "needs_background": "light"
          }
        },
        {
          "output_type": "display_data",
          "data": {
            "image/png": "[encoded data removed]",
            "text/plain": [
              "<Figure size 432x288 with 1 Axes>"
            ]
          },
          "metadata": {
            "tags": [],
            "needs_background": "light"
          }
        }
      ]
    },
    {
      "cell_type": "markdown",
      "metadata": {
        "id": "NAVa8M-CbW2l"
      },
      "source": [
        "build the model"
      ]
    },
    {
      "cell_type": "code",
      "metadata": {
        "id": "-iPeGeXt8tR-"
      },
      "source": [
        "#DropBlock1D\n",
        "import keras\n",
        "import keras.backend as K\n",
        "\n",
        "\n",
        "class DropBlock1D(keras.layers.Layer):\n",
        "    \"\"\"See: https://arxiv.org/pdf/1810.12890.pdf\"\"\"\n",
        "\n",
        "    def __init__(self,\n",
        "                 block_size,\n",
        "                 keep_prob,\n",
        "                 sync_channels=False,\n",
        "                 data_format=None,\n",
        "                 **kwargs):\n",
        "        \"\"\"Initialize the layer.\n",
        "        :param block_size: Size for each mask block.\n",
        "        :param keep_prob: Probability of keeping the original feature.\n",
        "        :param sync_channels: Whether to use the same dropout for all channels.\n",
        "        :param data_format: 'channels_first' or 'channels_last' (default).\n",
        "        :param kwargs: Arguments for parent class.\n",
        "        \"\"\"\n",
        "        super(DropBlock1D, self).__init__(**kwargs)\n",
        "        self.block_size = block_size\n",
        "        self.keep_prob = keep_prob\n",
        "        self.sync_channels = sync_channels\n",
        "        self.data_format = K.normalize_data_format(data_format)\n",
        "        self.input_spec = keras.engine.base_layer.InputSpec(ndim=3)\n",
        "        self.supports_masking = True\n",
        "\n",
        "    def get_config(self):\n",
        "        config = {'block_size': self.block_size,\n",
        "                  'keep_prob': self.keep_prob,\n",
        "                  'sync_channels': self.sync_channels,\n",
        "                  'data_format': self.data_format}\n",
        "        base_config = super(DropBlock1D, self).get_config()\n",
        "        return dict(list(base_config.items()) + list(config.items()))\n",
        "\n",
        "    def compute_mask(self, inputs, mask=None):\n",
        "        return mask\n",
        "\n",
        "    def compute_output_shape(self, input_shape):\n",
        "        return input_shape\n",
        "\n",
        "    def _get_gamma(self, feature_dim):\n",
        "        \"\"\"Get the number of activation units to drop\"\"\"\n",
        "        feature_dim = K.cast(feature_dim, K.floatx())\n",
        "        block_size = K.constant(self.block_size, dtype=K.floatx())\n",
        "        return ((1.0 - self.keep_prob) / block_size) * (feature_dim / (feature_dim - block_size + 1.0))\n",
        "\n",
        "    def _compute_valid_seed_region(self, seq_length):\n",
        "        positions = K.arange(seq_length)\n",
        "        half_block_size = self.block_size // 2\n",
        "        valid_seed_region = K.switch(\n",
        "            K.all(\n",
        "                K.stack(\n",
        "                    [\n",
        "                        positions >= half_block_size,\n",
        "                        positions < seq_length - half_block_size,\n",
        "                    ],\n",
        "                    axis=-1,\n",
        "                ),\n",
        "                axis=-1,\n",
        "            ),\n",
        "            K.ones((seq_length,)),\n",
        "            K.zeros((seq_length,)),\n",
        "        )\n",
        "        return K.expand_dims(K.expand_dims(valid_seed_region, axis=0), axis=-1)\n",
        "\n",
        "    def _compute_drop_mask(self, shape):\n",
        "        seq_length = shape[1]\n",
        "        mask = K.random_binomial(shape, p=self._get_gamma(seq_length))\n",
        "        mask *= self._compute_valid_seed_region(seq_length)\n",
        "        mask = keras.layers.MaxPool1D(\n",
        "            pool_size=self.block_size,\n",
        "            padding='same',\n",
        "            strides=1,\n",
        "            data_format='channels_last',\n",
        "        )(mask)\n",
        "        return 1.0 - mask\n",
        "\n",
        "    def call(self, inputs, training=None):\n",
        "\n",
        "        def dropped_inputs():\n",
        "            outputs = inputs\n",
        "            if self.data_format == 'channels_first':\n",
        "                outputs = K.permute_dimensions(outputs, [0, 2, 1])\n",
        "            shape = K.shape(outputs)\n",
        "            if self.sync_channels:\n",
        "                mask = self._compute_drop_mask([shape[0], shape[1], 1])\n",
        "            else:\n",
        "                mask = self._compute_drop_mask(shape)\n",
        "            outputs = outputs * mask *\\\n",
        "                (K.cast(K.prod(shape), dtype=K.floatx()) / K.sum(mask))\n",
        "            if self.data_format == 'channels_first':\n",
        "                outputs = K.permute_dimensions(outputs, [0, 2, 1])\n",
        "            return outputs\n",
        "\n",
        "        return K.in_train_phase(dropped_inputs, inputs, training=training)\n",
        "\n",
        "\n",
        "class DropBlock2D(keras.layers.Layer):\n",
        "    \"\"\"See: https://arxiv.org/pdf/1810.12890.pdf\"\"\"\n",
        "\n",
        "    def __init__(self,\n",
        "                 block_size,\n",
        "                 keep_prob,\n",
        "                 sync_channels=False,\n",
        "                 data_format=None,\n",
        "                 **kwargs):\n",
        "        \"\"\"Initialize the layer.\n",
        "        :param block_size: Size for each mask block.\n",
        "        :param keep_prob: Probability of keeping the original feature.\n",
        "        :param sync_channels: Whether to use the same dropout for all channels.\n",
        "        :param data_format: 'channels_first' or 'channels_last' (default).\n",
        "        :param kwargs: Arguments for parent class.\n",
        "        \"\"\"\n",
        "        super(DropBlock2D, self).__init__(**kwargs)\n",
        "        self.block_size = block_size\n",
        "        self.keep_prob = keep_prob\n",
        "        self.sync_channels = sync_channels\n",
        "        self.data_format = K.normalize_data_format(data_format)\n",
        "        self.input_spec = keras.engine.base_layer.InputSpec(ndim=4)\n",
        "        self.supports_masking = True\n",
        "\n",
        "    def get_config(self):\n",
        "        config = {'block_size': self.block_size,\n",
        "                  'keep_prob': self.keep_prob,\n",
        "                  'sync_channels': self.sync_channels,\n",
        "                  'data_format': self.data_format}\n",
        "        base_config = super(DropBlock2D, self).get_config()\n",
        "        return dict(list(base_config.items()) + list(config.items()))\n",
        "\n",
        "    def compute_mask(self, inputs, mask=None):\n",
        "        return mask\n",
        "\n",
        "    def compute_output_shape(self, input_shape):\n",
        "        return input_shape\n",
        "\n",
        "    def _get_gamma(self, height, width):\n",
        "        \"\"\"Get the number of activation units to drop\"\"\"\n",
        "        height, width = K.cast(height, K.floatx()), K.cast(width, K.floatx())\n",
        "        block_size = K.constant(self.block_size, dtype=K.floatx())\n",
        "        return ((1.0 - self.keep_prob) / (block_size ** 2)) *\\\n",
        "               (height * width / ((height - block_size + 1.0) * (width - block_size + 1.0)))\n",
        "\n",
        "    def _compute_valid_seed_region(self, height, width):\n",
        "        positions = K.concatenate([\n",
        "            K.expand_dims(K.tile(K.expand_dims(K.arange(height), axis=1), [1, width]), axis=-1),\n",
        "            K.expand_dims(K.tile(K.expand_dims(K.arange(width), axis=0), [height, 1]), axis=-1),\n",
        "        ], axis=-1)\n",
        "        half_block_size = self.block_size // 2\n",
        "        valid_seed_region = K.switch(\n",
        "            K.all(\n",
        "                K.stack(\n",
        "                    [\n",
        "                        positions[:, :, 0] >= half_block_size,\n",
        "                        positions[:, :, 1] >= half_block_size,\n",
        "                        positions[:, :, 0] < height - half_block_size,\n",
        "                        positions[:, :, 1] < width - half_block_size,\n",
        "                    ],\n",
        "                    axis=-1,\n",
        "                ),\n",
        "                axis=-1,\n",
        "            ),\n",
        "            K.ones((height, width)),\n",
        "            K.zeros((height, width)),\n",
        "        )\n",
        "        return K.expand_dims(K.expand_dims(valid_seed_region, axis=0), axis=-1)\n",
        "\n",
        "    def _compute_drop_mask(self, shape):\n",
        "        height, width = shape[1], shape[2]\n",
        "        mask = K.random_binomial(shape, p=self._get_gamma(height, width))\n",
        "        mask *= self._compute_valid_seed_region(height, width)\n",
        "        mask = keras.layers.MaxPool2D(\n",
        "            pool_size=(self.block_size, self.block_size),\n",
        "            padding='same',\n",
        "            strides=1,\n",
        "            data_format='channels_last',\n",
        "        )(mask)\n",
        "        return 1.0 - mask\n",
        "\n",
        "    def call(self, inputs, training=None):\n",
        "\n",
        "        def dropped_inputs():\n",
        "            outputs = inputs\n",
        "            if self.data_format == 'channels_first':\n",
        "                outputs = K.permute_dimensions(outputs, [0, 2, 3, 1])\n",
        "            shape = K.shape(outputs)\n",
        "            if self.sync_channels:\n",
        "                mask = self._compute_drop_mask([shape[0], shape[1], shape[2], 1])\n",
        "            else:\n",
        "                mask = self._compute_drop_mask(shape)\n",
        "            outputs = outputs * mask *\\\n",
        "                (K.cast(K.prod(shape), dtype=K.floatx()) / K.sum(mask))\n",
        "            if self.data_format == 'channels_first':\n",
        "                outputs = K.permute_dimensions(outputs, [0, 3, 1, 2])\n",
        "            return outputs\n",
        "\n",
        "        return K.in_train_phase(dropped_inputs, inputs, training=training)"
      ],
      "execution_count": 17,
      "outputs": []
    },
    {
      "cell_type": "code",
      "metadata": {
        "id": "FzfCtgz1-N6f"
      },
      "source": [
        "from keras.layers import GlobalAveragePooling2D, GlobalMaxPooling2D, Reshape, Dense, multiply, Permute, Concatenate, \\\n",
        "    Conv2D, Add, Activation, Lambda,Conv1D, Input\n",
        "\n",
        "def spatial_attention(input_feature):\n",
        "    kernel_size = 7\n",
        "\n",
        "    if K.image_data_format() == \"channels_first\":\n",
        "        channel = input_feature.shape[1]\n",
        "        cbam_feature = Permute((2, 3, 1))(input_feature)\n",
        "    else:\n",
        "        channel = input_feature.shape[-1]\n",
        "        cbam_feature = input_feature\n",
        "\n",
        "    avg_pool = Lambda(lambda x: K.mean(x, axis=3, keepdims=True))(cbam_feature)\n",
        "    assert avg_pool.shape[-1] == 1\n",
        "    max_pool = Lambda(lambda x: K.max(x, axis=3, keepdims=True))(cbam_feature)\n",
        "    assert max_pool.shape[-1] == 1\n",
        "    concat = Concatenate(axis=3)([avg_pool, max_pool])\n",
        "    assert concat.shape[-1] == 2\n",
        "    cbam_feature = Conv2D(filters=1,\n",
        "                          kernel_size=kernel_size,\n",
        "                          strides=1,\n",
        "                          padding='same',\n",
        "                          activation='sigmoid',\n",
        "                          kernel_initializer='he_normal',\n",
        "                          use_bias=False)(concat)\n",
        "    assert cbam_feature.shape[-1] == 1\n",
        "\n",
        "    if K.image_data_format() == \"channels_first\":\n",
        "        cbam_feature = Permute((3, 1, 2))(cbam_feature)\n",
        "\n",
        "    return multiply([input_feature, cbam_feature])"
      ],
      "execution_count": 18,
      "outputs": []
    },
    {
      "cell_type": "code",
      "metadata": {
        "colab": {
          "base_uri": "https://localhost:8080/"
        },
        "id": "9iD2XFmLSCiD",
        "outputId": "9b542114-cd35-4c41-f410-3d45886c2c42"
      },
      "source": [
        "from tensorflow.keras.layers import Conv2D, BatchNormalization, Activation, MaxPool2D, Conv2DTranspose, Concatenate, Input\n",
        "from tensorflow.keras.models import Model\n",
        "from tensorflow.keras.applications import VGG19\n",
        "\n",
        "def conv_block(input, num_filters):\n",
        "    x = Conv2D(num_filters, 3, padding=\"same\")(input)\n",
        "    x = BatchNormalization()(x)\n",
        "    x = Activation(\"relu\")(x)\n",
        "    \n",
        "    x = Conv2D(num_filters, 3, padding=\"same\")(x)\n",
        "    x = BatchNormalization()(x)\n",
        "    x = Activation(\"relu\")(x)\n",
        "\n",
        "    return x\n",
        "\n",
        "def decoder_block(input, skip_features, num_filters):\n",
        "    x = Conv2DTranspose(num_filters, (2, 2), strides=2, padding=\"same\")(input)\n",
        "    x = spatial_attention(x)\n",
        "    x = Concatenate()([x, skip_features])\n",
        "    x = conv_block(x, num_filters)\n",
        "    return x\n",
        "\n",
        "def build_vgg19_unet(input_shape):\n",
        "    \"\"\" Input \"\"\"\n",
        "    inputs = Input(input_shape)\n",
        "\n",
        "    \"\"\" Pre-trained VGG19 Model \"\"\"\n",
        "    vgg19 = VGG19(include_top=False, weights=\"imagenet\", input_tensor=inputs)\n",
        "    vgg19.trainable = False\n",
        "    \"\"\" Encoder \"\"\"\n",
        "    s1 =vgg19.get_layer(\"block1_conv2\").output\n",
        "    s2 = vgg19.get_layer(\"block2_conv2\").output         ## (256 x 256)\n",
        "    s3 = vgg19.get_layer(\"block3_conv4\").output         ## (128 x 128)\n",
        "    s4 = vgg19.get_layer(\"block4_conv4\").output         ## (64 x 64)\n",
        "    \"\"\" Bridge \"\"\"\n",
        "    b1 = vgg19.get_layer(\"block5_conv4\").output         ## (32 x 32)\n",
        "    b1 = spatial_attention(b1)\n",
        "    \"\"\" Decoder \"\"\"\n",
        "    d1 = decoder_block(b1, s4, 512)  \n",
        "    d1 = spatial_attention(d1)\n",
        "    d2 = decoder_block(d1, s3, 256)                     ## (128 x 128)\n",
        "    d3 = decoder_block(d2, s2, 128)                     ## (256 x 256)\n",
        "    d4 = decoder_block(d3, s1, 64)                      ## (512 x 512)\n",
        "\n",
        "    \"\"\" Output \"\"\"\n",
        "    outputs = Conv2D(1, 1, padding=\"same\", activation=\"sigmoid\")(d4)\n",
        "\n",
        "    model = Model(inputs, outputs, name=\"VGG19_U-Net\")\n",
        "    model.compile(optimizer='adam', loss='binary_crossentropy',metrics=['accuracy'])\n",
        "\n",
        "    return model\n",
        "\n",
        "if __name__ == \"__main__\":\n",
        "    input_shape = (128, 128, 3)\n",
        "    model = build_vgg19_unet(input_shape)\n",
        "    model.summary()"
      ],
      "execution_count": 19,
      "outputs": [
        {
          "output_type": "stream",
          "text": [
            "Model: \"VGG19_U-Net\"\n",
            "__________________________________________________________________________________________________\n",
            "Layer (type)                    Output Shape         Param #     Connected to                     \n",
            "==================================================================================================\n",
            "input_2 (InputLayer)            [(None, 128, 128, 3) 0                                            \n",
            "__________________________________________________________________________________________________\n",
            "block1_conv1 (Conv2D)           (None, 128, 128, 64) 1792        input_2[0][0]                    \n",
            "__________________________________________________________________________________________________\n",
            "block1_conv2 (Conv2D)           (None, 128, 128, 64) 36928       block1_conv1[0][0]               \n",
            "__________________________________________________________________________________________________\n",
            "block1_pool (MaxPooling2D)      (None, 64, 64, 64)   0           block1_conv2[0][0]               \n",
            "__________________________________________________________________________________________________\n",
            "block2_conv1 (Conv2D)           (None, 64, 64, 128)  73856       block1_pool[0][0]                \n",
            "__________________________________________________________________________________________________\n",
            "block2_conv2 (Conv2D)           (None, 64, 64, 128)  147584      block2_conv1[0][0]               \n",
            "__________________________________________________________________________________________________\n",
            "block2_pool (MaxPooling2D)      (None, 32, 32, 128)  0           block2_conv2[0][0]               \n",
            "__________________________________________________________________________________________________\n",
            "block3_conv1 (Conv2D)           (None, 32, 32, 256)  295168      block2_pool[0][0]                \n",
            "__________________________________________________________________________________________________\n",
            "block3_conv2 (Conv2D)           (None, 32, 32, 256)  590080      block3_conv1[0][0]               \n",
            "__________________________________________________________________________________________________\n",
            "block3_conv3 (Conv2D)           (None, 32, 32, 256)  590080      block3_conv2[0][0]               \n",
            "__________________________________________________________________________________________________\n",
            "block3_conv4 (Conv2D)           (None, 32, 32, 256)  590080      block3_conv3[0][0]               \n",
            "__________________________________________________________________________________________________\n",
            "block3_pool (MaxPooling2D)      (None, 16, 16, 256)  0           block3_conv4[0][0]               \n",
            "__________________________________________________________________________________________________\n",
            "block4_conv1 (Conv2D)           (None, 16, 16, 512)  1180160     block3_pool[0][0]                \n",
            "__________________________________________________________________________________________________\n",
            "block4_conv2 (Conv2D)           (None, 16, 16, 512)  2359808     block4_conv1[0][0]               \n",
            "__________________________________________________________________________________________________\n",
            "block4_conv3 (Conv2D)           (None, 16, 16, 512)  2359808     block4_conv2[0][0]               \n",
            "__________________________________________________________________________________________________\n",
            "block4_conv4 (Conv2D)           (None, 16, 16, 512)  2359808     block4_conv3[0][0]               \n",
            "__________________________________________________________________________________________________\n",
            "block4_pool (MaxPooling2D)      (None, 8, 8, 512)    0           block4_conv4[0][0]               \n",
            "__________________________________________________________________________________________________\n",
            "block5_conv1 (Conv2D)           (None, 8, 8, 512)    2359808     block4_pool[0][0]                \n",
            "__________________________________________________________________________________________________\n",
            "block5_conv2 (Conv2D)           (None, 8, 8, 512)    2359808     block5_conv1[0][0]               \n",
            "__________________________________________________________________________________________________\n",
            "block5_conv3 (Conv2D)           (None, 8, 8, 512)    2359808     block5_conv2[0][0]               \n",
            "__________________________________________________________________________________________________\n",
            "block5_conv4 (Conv2D)           (None, 8, 8, 512)    2359808     block5_conv3[0][0]               \n",
            "__________________________________________________________________________________________________\n",
            "tf.math.reduce_mean_6 (TFOpLamb (None, 8, 8, 1)      0           block5_conv4[0][0]               \n",
            "__________________________________________________________________________________________________\n",
            "tf.math.reduce_max_6 (TFOpLambd (None, 8, 8, 1)      0           block5_conv4[0][0]               \n",
            "__________________________________________________________________________________________________\n",
            "concatenate_10 (Concatenate)    (None, 8, 8, 2)      0           tf.math.reduce_mean_6[0][0]      \n",
            "                                                                 tf.math.reduce_max_6[0][0]       \n",
            "__________________________________________________________________________________________________\n",
            "conv2d_15 (Conv2D)              (None, 8, 8, 1)      98          concatenate_10[0][0]             \n",
            "__________________________________________________________________________________________________\n",
            "tf.math.multiply_6 (TFOpLambda) (None, 8, 8, 512)    0           block5_conv4[0][0]               \n",
            "                                                                 conv2d_15[0][0]                  \n",
            "__________________________________________________________________________________________________\n",
            "conv2d_transpose_4 (Conv2DTrans (None, 16, 16, 512)  1049088     tf.math.multiply_6[0][0]         \n",
            "__________________________________________________________________________________________________\n",
            "tf.math.reduce_mean_7 (TFOpLamb (None, 16, 16, 1)    0           conv2d_transpose_4[0][0]         \n",
            "__________________________________________________________________________________________________\n",
            "tf.math.reduce_max_7 (TFOpLambd (None, 16, 16, 1)    0           conv2d_transpose_4[0][0]         \n",
            "__________________________________________________________________________________________________\n",
            "concatenate_11 (Concatenate)    (None, 16, 16, 2)    0           tf.math.reduce_mean_7[0][0]      \n",
            "                                                                 tf.math.reduce_max_7[0][0]       \n",
            "__________________________________________________________________________________________________\n",
            "conv2d_16 (Conv2D)              (None, 16, 16, 1)    98          concatenate_11[0][0]             \n",
            "__________________________________________________________________________________________________\n",
            "tf.math.multiply_7 (TFOpLambda) (None, 16, 16, 512)  0           conv2d_transpose_4[0][0]         \n",
            "                                                                 conv2d_16[0][0]                  \n",
            "__________________________________________________________________________________________________\n",
            "concatenate_12 (Concatenate)    (None, 16, 16, 1024) 0           tf.math.multiply_7[0][0]         \n",
            "                                                                 block4_conv4[0][0]               \n",
            "__________________________________________________________________________________________________\n",
            "conv2d_17 (Conv2D)              (None, 16, 16, 512)  4719104     concatenate_12[0][0]             \n",
            "__________________________________________________________________________________________________\n",
            "batch_normalization_8 (BatchNor (None, 16, 16, 512)  2048        conv2d_17[0][0]                  \n",
            "__________________________________________________________________________________________________\n",
            "activation_8 (Activation)       (None, 16, 16, 512)  0           batch_normalization_8[0][0]      \n",
            "__________________________________________________________________________________________________\n",
            "conv2d_18 (Conv2D)              (None, 16, 16, 512)  2359808     activation_8[0][0]               \n",
            "__________________________________________________________________________________________________\n",
            "batch_normalization_9 (BatchNor (None, 16, 16, 512)  2048        conv2d_18[0][0]                  \n",
            "__________________________________________________________________________________________________\n",
            "activation_9 (Activation)       (None, 16, 16, 512)  0           batch_normalization_9[0][0]      \n",
            "__________________________________________________________________________________________________\n",
            "tf.math.reduce_mean_8 (TFOpLamb (None, 16, 16, 1)    0           activation_9[0][0]               \n",
            "__________________________________________________________________________________________________\n",
            "tf.math.reduce_max_8 (TFOpLambd (None, 16, 16, 1)    0           activation_9[0][0]               \n",
            "__________________________________________________________________________________________________\n",
            "concatenate_13 (Concatenate)    (None, 16, 16, 2)    0           tf.math.reduce_mean_8[0][0]      \n",
            "                                                                 tf.math.reduce_max_8[0][0]       \n",
            "__________________________________________________________________________________________________\n",
            "conv2d_19 (Conv2D)              (None, 16, 16, 1)    98          concatenate_13[0][0]             \n",
            "__________________________________________________________________________________________________\n",
            "tf.math.multiply_8 (TFOpLambda) (None, 16, 16, 512)  0           activation_9[0][0]               \n",
            "                                                                 conv2d_19[0][0]                  \n",
            "__________________________________________________________________________________________________\n",
            "conv2d_transpose_5 (Conv2DTrans (None, 32, 32, 256)  524544      tf.math.multiply_8[0][0]         \n",
            "__________________________________________________________________________________________________\n",
            "tf.math.reduce_mean_9 (TFOpLamb (None, 32, 32, 1)    0           conv2d_transpose_5[0][0]         \n",
            "__________________________________________________________________________________________________\n",
            "tf.math.reduce_max_9 (TFOpLambd (None, 32, 32, 1)    0           conv2d_transpose_5[0][0]         \n",
            "__________________________________________________________________________________________________\n",
            "concatenate_14 (Concatenate)    (None, 32, 32, 2)    0           tf.math.reduce_mean_9[0][0]      \n",
            "                                                                 tf.math.reduce_max_9[0][0]       \n",
            "__________________________________________________________________________________________________\n",
            "conv2d_20 (Conv2D)              (None, 32, 32, 1)    98          concatenate_14[0][0]             \n",
            "__________________________________________________________________________________________________\n",
            "tf.math.multiply_9 (TFOpLambda) (None, 32, 32, 256)  0           conv2d_transpose_5[0][0]         \n",
            "                                                                 conv2d_20[0][0]                  \n",
            "__________________________________________________________________________________________________\n",
            "concatenate_15 (Concatenate)    (None, 32, 32, 512)  0           tf.math.multiply_9[0][0]         \n",
            "                                                                 block3_conv4[0][0]               \n",
            "__________________________________________________________________________________________________\n",
            "conv2d_21 (Conv2D)              (None, 32, 32, 256)  1179904     concatenate_15[0][0]             \n",
            "__________________________________________________________________________________________________\n",
            "batch_normalization_10 (BatchNo (None, 32, 32, 256)  1024        conv2d_21[0][0]                  \n",
            "__________________________________________________________________________________________________\n",
            "activation_10 (Activation)      (None, 32, 32, 256)  0           batch_normalization_10[0][0]     \n",
            "__________________________________________________________________________________________________\n",
            "conv2d_22 (Conv2D)              (None, 32, 32, 256)  590080      activation_10[0][0]              \n",
            "__________________________________________________________________________________________________\n",
            "batch_normalization_11 (BatchNo (None, 32, 32, 256)  1024        conv2d_22[0][0]                  \n",
            "__________________________________________________________________________________________________\n",
            "activation_11 (Activation)      (None, 32, 32, 256)  0           batch_normalization_11[0][0]     \n",
            "__________________________________________________________________________________________________\n",
            "conv2d_transpose_6 (Conv2DTrans (None, 64, 64, 128)  131200      activation_11[0][0]              \n",
            "__________________________________________________________________________________________________\n",
            "tf.math.reduce_mean_10 (TFOpLam (None, 64, 64, 1)    0           conv2d_transpose_6[0][0]         \n",
            "__________________________________________________________________________________________________\n",
            "tf.math.reduce_max_10 (TFOpLamb (None, 64, 64, 1)    0           conv2d_transpose_6[0][0]         \n",
            "__________________________________________________________________________________________________\n",
            "concatenate_16 (Concatenate)    (None, 64, 64, 2)    0           tf.math.reduce_mean_10[0][0]     \n",
            "                                                                 tf.math.reduce_max_10[0][0]      \n",
            "__________________________________________________________________________________________________\n",
            "conv2d_23 (Conv2D)              (None, 64, 64, 1)    98          concatenate_16[0][0]             \n",
            "__________________________________________________________________________________________________\n",
            "tf.math.multiply_10 (TFOpLambda (None, 64, 64, 128)  0           conv2d_transpose_6[0][0]         \n",
            "                                                                 conv2d_23[0][0]                  \n",
            "__________________________________________________________________________________________________\n",
            "concatenate_17 (Concatenate)    (None, 64, 64, 256)  0           tf.math.multiply_10[0][0]        \n",
            "                                                                 block2_conv2[0][0]               \n",
            "__________________________________________________________________________________________________\n",
            "conv2d_24 (Conv2D)              (None, 64, 64, 128)  295040      concatenate_17[0][0]             \n",
            "__________________________________________________________________________________________________\n",
            "batch_normalization_12 (BatchNo (None, 64, 64, 128)  512         conv2d_24[0][0]                  \n",
            "__________________________________________________________________________________________________\n",
            "activation_12 (Activation)      (None, 64, 64, 128)  0           batch_normalization_12[0][0]     \n",
            "__________________________________________________________________________________________________\n",
            "conv2d_25 (Conv2D)              (None, 64, 64, 128)  147584      activation_12[0][0]              \n",
            "__________________________________________________________________________________________________\n",
            "batch_normalization_13 (BatchNo (None, 64, 64, 128)  512         conv2d_25[0][0]                  \n",
            "__________________________________________________________________________________________________\n",
            "activation_13 (Activation)      (None, 64, 64, 128)  0           batch_normalization_13[0][0]     \n",
            "__________________________________________________________________________________________________\n",
            "conv2d_transpose_7 (Conv2DTrans (None, 128, 128, 64) 32832       activation_13[0][0]              \n",
            "__________________________________________________________________________________________________\n",
            "tf.math.reduce_mean_11 (TFOpLam (None, 128, 128, 1)  0           conv2d_transpose_7[0][0]         \n",
            "__________________________________________________________________________________________________\n",
            "tf.math.reduce_max_11 (TFOpLamb (None, 128, 128, 1)  0           conv2d_transpose_7[0][0]         \n",
            "__________________________________________________________________________________________________\n",
            "concatenate_18 (Concatenate)    (None, 128, 128, 2)  0           tf.math.reduce_mean_11[0][0]     \n",
            "                                                                 tf.math.reduce_max_11[0][0]      \n",
            "__________________________________________________________________________________________________\n",
            "conv2d_26 (Conv2D)              (None, 128, 128, 1)  98          concatenate_18[0][0]             \n",
            "__________________________________________________________________________________________________\n",
            "tf.math.multiply_11 (TFOpLambda (None, 128, 128, 64) 0           conv2d_transpose_7[0][0]         \n",
            "                                                                 conv2d_26[0][0]                  \n",
            "__________________________________________________________________________________________________\n",
            "concatenate_19 (Concatenate)    (None, 128, 128, 128 0           tf.math.multiply_11[0][0]        \n",
            "                                                                 block1_conv2[0][0]               \n",
            "__________________________________________________________________________________________________\n",
            "conv2d_27 (Conv2D)              (None, 128, 128, 64) 73792       concatenate_19[0][0]             \n",
            "__________________________________________________________________________________________________\n",
            "batch_normalization_14 (BatchNo (None, 128, 128, 64) 256         conv2d_27[0][0]                  \n",
            "__________________________________________________________________________________________________\n",
            "activation_14 (Activation)      (None, 128, 128, 64) 0           batch_normalization_14[0][0]     \n",
            "__________________________________________________________________________________________________\n",
            "conv2d_28 (Conv2D)              (None, 128, 128, 64) 36928       activation_14[0][0]              \n",
            "__________________________________________________________________________________________________\n",
            "batch_normalization_15 (BatchNo (None, 128, 128, 64) 256         conv2d_28[0][0]                  \n",
            "__________________________________________________________________________________________________\n",
            "activation_15 (Activation)      (None, 128, 128, 64) 0           batch_normalization_15[0][0]     \n",
            "__________________________________________________________________________________________________\n",
            "conv2d_29 (Conv2D)              (None, 128, 128, 1)  65          activation_15[0][0]              \n",
            "==================================================================================================\n",
            "Total params: 31,172,621\n",
            "Trainable params: 11,144,397\n",
            "Non-trainable params: 20,028,224\n",
            "__________________________________________________________________________________________________\n"
          ],
          "name": "stdout"
        }
      ]
    },
    {
      "cell_type": "code",
      "metadata": {
        "colab": {
          "base_uri": "https://localhost:8080/"
        },
        "id": "PIXkS7LFyTHD",
        "outputId": "c65cb898-7d0a-45f3-a80f-2ea8933c4203"
      },
      "source": [
        "checkpointer = tf.keras.callbacks.ModelCheckpoint('model_for_nuclei.h5', verbose=1, save_best_only=False )\n",
        "\n",
        "callbacks = [\n",
        "        tf.keras.callbacks.EarlyStopping(patience=5, monitor='val_loss'),\n",
        "        tf.keras.callbacks.TensorBoard(log_dir='logs'),\n",
        "        checkpointer]\n",
        "\n",
        "results = model.fit(X_train, Y_train, validation_split=0.1, batch_size=10, epochs= 360, callbacks = callbacks)"
      ],
      "execution_count": 20,
      "outputs": [
        {
          "output_type": "stream",
          "text": [
            "Epoch 1/360\n",
            "5/5 [==============================] - 42s 2s/step - loss: 0.5969 - accuracy: 0.7310 - val_loss: 0.8737 - val_accuracy: 0.9556\n",
            "\n",
            "Epoch 00001: saving model to model_for_nuclei.h5\n",
            "Epoch 2/360\n",
            "5/5 [==============================] - 1s 304ms/step - loss: 0.3973 - accuracy: 0.9302 - val_loss: 0.5238 - val_accuracy: 0.9554\n",
            "\n",
            "Epoch 00002: saving model to model_for_nuclei.h5\n",
            "Epoch 3/360\n",
            "5/5 [==============================] - 1s 300ms/step - loss: 0.3151 - accuracy: 0.9485 - val_loss: 0.5198 - val_accuracy: 0.9556\n",
            "\n",
            "Epoch 00003: saving model to model_for_nuclei.h5\n",
            "Epoch 4/360\n",
            "5/5 [==============================] - 1s 298ms/step - loss: 0.2648 - accuracy: 0.9555 - val_loss: 0.4202 - val_accuracy: 0.9557\n",
            "\n",
            "Epoch 00004: saving model to model_for_nuclei.h5\n",
            "Epoch 5/360\n",
            "5/5 [==============================] - 1s 296ms/step - loss: 0.2358 - accuracy: 0.9562 - val_loss: 0.3927 - val_accuracy: 0.9557\n",
            "\n",
            "Epoch 00005: saving model to model_for_nuclei.h5\n",
            "Epoch 6/360\n",
            "5/5 [==============================] - 1s 297ms/step - loss: 0.2154 - accuracy: 0.9565 - val_loss: 0.3687 - val_accuracy: 0.9557\n",
            "\n",
            "Epoch 00006: saving model to model_for_nuclei.h5\n",
            "Epoch 7/360\n",
            "5/5 [==============================] - 1s 296ms/step - loss: 0.2001 - accuracy: 0.9566 - val_loss: 0.2747 - val_accuracy: 0.9536\n",
            "\n",
            "Epoch 00007: saving model to model_for_nuclei.h5\n",
            "Epoch 8/360\n",
            "5/5 [==============================] - 1s 304ms/step - loss: 0.1897 - accuracy: 0.9565 - val_loss: 0.2708 - val_accuracy: 0.9537\n",
            "\n",
            "Epoch 00008: saving model to model_for_nuclei.h5\n",
            "Epoch 9/360\n",
            "5/5 [==============================] - 1s 297ms/step - loss: 0.1793 - accuracy: 0.9566 - val_loss: 0.2563 - val_accuracy: 0.9525\n",
            "\n",
            "Epoch 00009: saving model to model_for_nuclei.h5\n",
            "Epoch 10/360\n",
            "5/5 [==============================] - 1s 306ms/step - loss: 0.1700 - accuracy: 0.9570 - val_loss: 0.2155 - val_accuracy: 0.9514\n",
            "\n",
            "Epoch 00010: saving model to model_for_nuclei.h5\n",
            "Epoch 11/360\n",
            "5/5 [==============================] - 1s 303ms/step - loss: 0.1597 - accuracy: 0.9582 - val_loss: 0.2165 - val_accuracy: 0.9481\n",
            "\n",
            "Epoch 00011: saving model to model_for_nuclei.h5\n",
            "Epoch 12/360\n",
            "5/5 [==============================] - 2s 314ms/step - loss: 0.1547 - accuracy: 0.9587 - val_loss: 0.2136 - val_accuracy: 0.9582\n",
            "\n",
            "Epoch 00012: saving model to model_for_nuclei.h5\n",
            "Epoch 13/360\n",
            "5/5 [==============================] - 1s 305ms/step - loss: 0.1481 - accuracy: 0.9597 - val_loss: 0.2534 - val_accuracy: 0.9439\n",
            "\n",
            "Epoch 00013: saving model to model_for_nuclei.h5\n",
            "Epoch 14/360\n",
            "5/5 [==============================] - 1s 301ms/step - loss: 0.1411 - accuracy: 0.9609 - val_loss: 0.2097 - val_accuracy: 0.9589\n",
            "\n",
            "Epoch 00014: saving model to model_for_nuclei.h5\n",
            "Epoch 15/360\n",
            "5/5 [==============================] - 1s 299ms/step - loss: 0.1355 - accuracy: 0.9608 - val_loss: 0.2280 - val_accuracy: 0.9500\n",
            "\n",
            "Epoch 00015: saving model to model_for_nuclei.h5\n",
            "Epoch 16/360\n",
            "5/5 [==============================] - 1s 303ms/step - loss: 0.1308 - accuracy: 0.9627 - val_loss: 0.1891 - val_accuracy: 0.9617\n",
            "\n",
            "Epoch 00016: saving model to model_for_nuclei.h5\n",
            "Epoch 17/360\n",
            "5/5 [==============================] - 1s 305ms/step - loss: 0.1266 - accuracy: 0.9637 - val_loss: 0.2277 - val_accuracy: 0.9417\n",
            "\n",
            "Epoch 00017: saving model to model_for_nuclei.h5\n",
            "Epoch 18/360\n",
            "5/5 [==============================] - 1s 305ms/step - loss: 0.1190 - accuracy: 0.9665 - val_loss: 0.2219 - val_accuracy: 0.9576\n",
            "\n",
            "Epoch 00018: saving model to model_for_nuclei.h5\n",
            "Epoch 19/360\n",
            "5/5 [==============================] - 1s 303ms/step - loss: 0.1084 - accuracy: 0.9695 - val_loss: 0.2614 - val_accuracy: 0.9535\n",
            "\n",
            "Epoch 00019: saving model to model_for_nuclei.h5\n",
            "Epoch 20/360\n",
            "5/5 [==============================] - 1s 299ms/step - loss: 0.1005 - accuracy: 0.9726 - val_loss: 0.2747 - val_accuracy: 0.9435\n",
            "\n",
            "Epoch 00020: saving model to model_for_nuclei.h5\n",
            "Epoch 21/360\n",
            "5/5 [==============================] - 2s 312ms/step - loss: 0.0953 - accuracy: 0.9729 - val_loss: 0.2869 - val_accuracy: 0.9515\n",
            "\n",
            "Epoch 00021: saving model to model_for_nuclei.h5\n"
          ],
          "name": "stdout"
        }
      ]
    },
    {
      "cell_type": "code",
      "metadata": {
        "id": "PoGq88xQIYf_"
      },
      "source": [
        "tf.keras.utils.plot_model(model, show_shapes=True)"
      ],
      "execution_count": null,
      "outputs": []
    },
    {
      "cell_type": "code",
      "metadata": {
        "id": "8hWONEyiImXv",
        "colab": {
          "base_uri": "https://localhost:8080/"
        },
        "outputId": "64d243e9-f109-4c3c-df80-6486db9a3f6e"
      },
      "source": [
        "results.history"
      ],
      "execution_count": 22,
      "outputs": [
        {
          "output_type": "execute_result",
          "data": {
            "text/plain": [
              "{'accuracy': [0.7309756278991699,\n",
              "  0.930191695690155,\n",
              "  0.9484584927558899,\n",
              "  0.955546498298645,\n",
              "  0.9561581611633301,\n",
              "  0.956512451171875,\n",
              "  0.9565854072570801,\n",
              "  0.956537663936615,\n",
              "  0.956638514995575,\n",
              "  0.957040548324585,\n",
              "  0.9582081437110901,\n",
              "  0.9587084054946899,\n",
              "  0.9596982002258301,\n",
              "  0.9609202742576599,\n",
              "  0.9608340263366699,\n",
              "  0.962698221206665,\n",
              "  0.963718593120575,\n",
              "  0.966475784778595,\n",
              "  0.9695116281509399,\n",
              "  0.9725965261459351,\n",
              "  0.97288578748703],\n",
              " 'loss': [0.5969125628471375,\n",
              "  0.39731425046920776,\n",
              "  0.3151237666606903,\n",
              "  0.2647629678249359,\n",
              "  0.23575396835803986,\n",
              "  0.21540801227092743,\n",
              "  0.2000678926706314,\n",
              "  0.18972820043563843,\n",
              "  0.1792943775653839,\n",
              "  0.16996586322784424,\n",
              "  0.15974581241607666,\n",
              "  0.15469369292259216,\n",
              "  0.1481105387210846,\n",
              "  0.1410863846540451,\n",
              "  0.13545501232147217,\n",
              "  0.13080984354019165,\n",
              "  0.12655159831047058,\n",
              "  0.1190040186047554,\n",
              "  0.10843197256326675,\n",
              "  0.10046379268169403,\n",
              "  0.09530790150165558],\n",
              " 'val_accuracy': [0.9555765986442566,\n",
              "  0.95538330078125,\n",
              "  0.9556071162223816,\n",
              "  0.955657958984375,\n",
              "  0.9556782841682434,\n",
              "  0.9556782841682434,\n",
              "  0.9536234736442566,\n",
              "  0.9537353515625,\n",
              "  0.95245361328125,\n",
              "  0.9513651728630066,\n",
              "  0.94805908203125,\n",
              "  0.9582316279411316,\n",
              "  0.943939208984375,\n",
              "  0.9588826298713684,\n",
              "  0.9499613642692566,\n",
              "  0.9617411494255066,\n",
              "  0.9417216181755066,\n",
              "  0.9575703740119934,\n",
              "  0.9534810185432434,\n",
              "  0.9434916377067566,\n",
              "  0.951507568359375],\n",
              " 'val_loss': [0.87369704246521,\n",
              "  0.5237541794776917,\n",
              "  0.5197980403900146,\n",
              "  0.42024990916252136,\n",
              "  0.3926997184753418,\n",
              "  0.36868199706077576,\n",
              "  0.2747068405151367,\n",
              "  0.27081117033958435,\n",
              "  0.2563430666923523,\n",
              "  0.2155415266752243,\n",
              "  0.21649272739887238,\n",
              "  0.21355551481246948,\n",
              "  0.25335705280303955,\n",
              "  0.20973153412342072,\n",
              "  0.22801542282104492,\n",
              "  0.1890910416841507,\n",
              "  0.2276780605316162,\n",
              "  0.22186465561389923,\n",
              "  0.2613929212093353,\n",
              "  0.27469587326049805,\n",
              "  0.2869267761707306]}"
            ]
          },
          "metadata": {
            "tags": []
          },
          "execution_count": 22
        }
      ]
    },
    {
      "cell_type": "code",
      "metadata": {
        "colab": {
          "base_uri": "https://localhost:8080/"
        },
        "id": "8YK-A3qiIydn",
        "outputId": "5229c7a5-993b-4d2d-d75a-1e0e45adb08e"
      },
      "source": [
        "initial_epochs= 15\n",
        "history = model.fit(X_train,Y_train, epochs= initial_epochs )\n",
        "model.trainable = True\n",
        "print(\"Number of layers in the base model: \", len(model.layers))\n",
        "\n",
        "fine_tune_at = 100\n",
        "\n",
        "# Freeze all the layers before the `fine_tune_at` layer\n",
        "for layer in model.layers[:fine_tune_at]:\n",
        "  layer.trainable =  False\n",
        "\n",
        "fine_tune_epochs = 50\n",
        "total_epochs =  initial_epochs + fine_tune_epochs\n",
        "\n",
        "history_fine = model.fit(X_train,Y_train,epochs=total_epochs,initial_epoch=history.epoch[-1])"
      ],
      "execution_count": 23,
      "outputs": [
        {
          "output_type": "stream",
          "text": [
            "Epoch 1/15\n",
            "2/2 [==============================] - 19s 8s/step - loss: 0.0910 - accuracy: 0.9752\n",
            "Epoch 2/15\n",
            "2/2 [==============================] - 1s 514ms/step - loss: 0.0880 - accuracy: 0.9764\n",
            "Epoch 3/15\n",
            "2/2 [==============================] - 1s 514ms/step - loss: 0.0798 - accuracy: 0.9789\n",
            "Epoch 4/15\n",
            "2/2 [==============================] - 1s 512ms/step - loss: 0.0812 - accuracy: 0.9776\n",
            "Epoch 5/15\n",
            "2/2 [==============================] - 1s 519ms/step - loss: 0.0735 - accuracy: 0.9809\n",
            "Epoch 6/15\n",
            "2/2 [==============================] - 1s 513ms/step - loss: 0.0731 - accuracy: 0.9807\n",
            "Epoch 7/15\n",
            "2/2 [==============================] - 1s 510ms/step - loss: 0.0674 - accuracy: 0.9833\n",
            "Epoch 8/15\n",
            "2/2 [==============================] - 1s 516ms/step - loss: 0.0660 - accuracy: 0.9837\n",
            "Epoch 9/15\n",
            "2/2 [==============================] - 1s 512ms/step - loss: 0.0625 - accuracy: 0.9849\n",
            "Epoch 10/15\n",
            "2/2 [==============================] - 1s 514ms/step - loss: 0.0595 - accuracy: 0.9861\n",
            "Epoch 11/15\n",
            "2/2 [==============================] - 1s 523ms/step - loss: 0.0581 - accuracy: 0.9863\n",
            "Epoch 12/15\n",
            "2/2 [==============================] - 1s 518ms/step - loss: 0.0563 - accuracy: 0.9866\n",
            "Epoch 13/15\n",
            "2/2 [==============================] - 1s 513ms/step - loss: 0.0569 - accuracy: 0.9851\n",
            "Epoch 14/15\n",
            "2/2 [==============================] - 1s 510ms/step - loss: 0.0533 - accuracy: 0.9871\n",
            "Epoch 15/15\n",
            "2/2 [==============================] - 1s 516ms/step - loss: 0.0491 - accuracy: 0.9885\n",
            "Number of layers in the base model:  84\n",
            "Epoch 15/65\n",
            "2/2 [==============================] - 1s 530ms/step - loss: 0.0482 - accuracy: 0.9886\n",
            "Epoch 16/65\n",
            "2/2 [==============================] - 1s 522ms/step - loss: 0.0473 - accuracy: 0.9890\n",
            "Epoch 17/65\n",
            "2/2 [==============================] - 1s 511ms/step - loss: 0.0460 - accuracy: 0.9894\n",
            "Epoch 18/65\n",
            "2/2 [==============================] - 1s 511ms/step - loss: 0.0451 - accuracy: 0.9897\n",
            "Epoch 19/65\n",
            "2/2 [==============================] - 1s 523ms/step - loss: 0.0431 - accuracy: 0.9905\n",
            "Epoch 20/65\n",
            "2/2 [==============================] - 1s 512ms/step - loss: 0.0441 - accuracy: 0.9892\n",
            "Epoch 21/65\n",
            "2/2 [==============================] - 1s 511ms/step - loss: 0.0412 - accuracy: 0.9906\n",
            "Epoch 22/65\n",
            "2/2 [==============================] - 1s 516ms/step - loss: 0.0366 - accuracy: 0.9922\n",
            "Epoch 23/65\n",
            "2/2 [==============================] - 1s 513ms/step - loss: 0.0383 - accuracy: 0.9913\n",
            "Epoch 24/65\n",
            "2/2 [==============================] - 1s 511ms/step - loss: 0.0377 - accuracy: 0.9911\n",
            "Epoch 25/65\n",
            "2/2 [==============================] - 1s 517ms/step - loss: 0.0364 - accuracy: 0.9914\n",
            "Epoch 26/65\n",
            "2/2 [==============================] - 1s 517ms/step - loss: 0.0337 - accuracy: 0.9926\n",
            "Epoch 27/65\n",
            "2/2 [==============================] - 1s 514ms/step - loss: 0.0335 - accuracy: 0.9926\n",
            "Epoch 28/65\n",
            "2/2 [==============================] - 1s 509ms/step - loss: 0.0317 - accuracy: 0.9931\n",
            "Epoch 29/65\n",
            "2/2 [==============================] - 1s 521ms/step - loss: 0.0332 - accuracy: 0.9924\n",
            "Epoch 30/65\n",
            "2/2 [==============================] - 1s 520ms/step - loss: 0.0311 - accuracy: 0.9932\n",
            "Epoch 31/65\n",
            "2/2 [==============================] - 1s 511ms/step - loss: 0.0306 - accuracy: 0.9932\n",
            "Epoch 32/65\n",
            "2/2 [==============================] - 1s 512ms/step - loss: 0.0289 - accuracy: 0.9936\n",
            "Epoch 33/65\n",
            "2/2 [==============================] - 1s 517ms/step - loss: 0.0279 - accuracy: 0.9941\n",
            "Epoch 34/65\n",
            "2/2 [==============================] - 1s 509ms/step - loss: 0.0266 - accuracy: 0.9944\n",
            "Epoch 35/65\n",
            "2/2 [==============================] - 1s 518ms/step - loss: 0.0267 - accuracy: 0.9941\n",
            "Epoch 36/65\n",
            "2/2 [==============================] - 1s 525ms/step - loss: 0.0260 - accuracy: 0.9944\n",
            "Epoch 37/65\n",
            "2/2 [==============================] - 1s 517ms/step - loss: 0.0248 - accuracy: 0.9950\n",
            "Epoch 38/65\n",
            "2/2 [==============================] - 1s 516ms/step - loss: 0.0267 - accuracy: 0.9940\n",
            "Epoch 39/65\n",
            "2/2 [==============================] - 1s 513ms/step - loss: 0.0254 - accuracy: 0.9943\n",
            "Epoch 40/65\n",
            "2/2 [==============================] - 1s 525ms/step - loss: 0.0246 - accuracy: 0.9949\n",
            "Epoch 41/65\n",
            "2/2 [==============================] - 1s 517ms/step - loss: 0.0239 - accuracy: 0.9948\n",
            "Epoch 42/65\n",
            "2/2 [==============================] - 1s 514ms/step - loss: 0.0228 - accuracy: 0.9953\n",
            "Epoch 43/65\n",
            "2/2 [==============================] - 1s 514ms/step - loss: 0.0230 - accuracy: 0.9951\n",
            "Epoch 44/65\n",
            "2/2 [==============================] - 1s 515ms/step - loss: 0.0218 - accuracy: 0.9956\n",
            "Epoch 45/65\n",
            "2/2 [==============================] - 1s 515ms/step - loss: 0.0223 - accuracy: 0.9952\n",
            "Epoch 46/65\n",
            "2/2 [==============================] - 1s 514ms/step - loss: 0.0226 - accuracy: 0.9950\n",
            "Epoch 47/65\n",
            "2/2 [==============================] - 1s 517ms/step - loss: 0.0223 - accuracy: 0.9950\n",
            "Epoch 48/65\n",
            "2/2 [==============================] - 1s 515ms/step - loss: 0.0221 - accuracy: 0.9951\n",
            "Epoch 49/65\n",
            "2/2 [==============================] - 1s 522ms/step - loss: 0.0237 - accuracy: 0.9944\n",
            "Epoch 50/65\n",
            "2/2 [==============================] - 1s 514ms/step - loss: 0.0215 - accuracy: 0.9951\n",
            "Epoch 51/65\n",
            "2/2 [==============================] - 1s 515ms/step - loss: 0.0207 - accuracy: 0.9954\n",
            "Epoch 52/65\n",
            "2/2 [==============================] - 1s 512ms/step - loss: 0.0217 - accuracy: 0.9950\n",
            "Epoch 53/65\n",
            "2/2 [==============================] - 1s 519ms/step - loss: 0.0202 - accuracy: 0.9954\n",
            "Epoch 54/65\n",
            "2/2 [==============================] - 1s 517ms/step - loss: 0.0205 - accuracy: 0.9955\n",
            "Epoch 55/65\n",
            "2/2 [==============================] - 1s 517ms/step - loss: 0.0212 - accuracy: 0.9952\n",
            "Epoch 56/65\n",
            "2/2 [==============================] - 1s 519ms/step - loss: 0.0204 - accuracy: 0.9952\n",
            "Epoch 57/65\n",
            "2/2 [==============================] - 1s 524ms/step - loss: 0.0194 - accuracy: 0.9955\n",
            "Epoch 58/65\n",
            "2/2 [==============================] - 1s 523ms/step - loss: 0.0184 - accuracy: 0.9959\n",
            "Epoch 59/65\n",
            "2/2 [==============================] - 1s 513ms/step - loss: 0.0186 - accuracy: 0.9957\n",
            "Epoch 60/65\n",
            "2/2 [==============================] - 1s 515ms/step - loss: 0.0173 - accuracy: 0.9964\n",
            "Epoch 61/65\n",
            "2/2 [==============================] - 1s 526ms/step - loss: 0.0176 - accuracy: 0.9961\n",
            "Epoch 62/65\n",
            "2/2 [==============================] - 1s 514ms/step - loss: 0.0171 - accuracy: 0.9964\n",
            "Epoch 63/65\n",
            "2/2 [==============================] - 1s 514ms/step - loss: 0.0185 - accuracy: 0.9956\n",
            "Epoch 64/65\n",
            "2/2 [==============================] - 1s 513ms/step - loss: 0.0160 - accuracy: 0.9968\n",
            "Epoch 65/65\n",
            "2/2 [==============================] - 1s 517ms/step - loss: 0.0167 - accuracy: 0.9963\n"
          ],
          "name": "stdout"
        }
      ]
    },
    {
      "cell_type": "code",
      "metadata": {
        "colab": {
          "base_uri": "https://localhost:8080/"
        },
        "id": "bxmFh6cSrqIG",
        "outputId": "0fa2f395-6288-4224-c02c-9a45b67ba9c8"
      },
      "source": [
        "#test images\n",
        "Y_test = np.zeros(( len(test_ids),IMG_HEIGHT,IMG_WIDTH, 1 ),dtype=np.bool)\n",
        "sizes_test= []\n",
        "\n",
        "print ('resizing test MASKS')\n",
        "for n, id_ in tqdm (enumerate(test_ids), total=len(test_ids)):\n",
        "     path = TEST_PATH + '/' +id_\n",
        "     for mask_file in next(os.walk(path +'/masks/'))[2]:\n",
        "       mask = imread(path + '/masks/'+ mask_file)\n",
        "       mask = resize (mask, (IMG_HEIGHT,IMG_WIDTH,1), mode='constant', preserve_range=True)\n",
        "     Y_test[n] = mask \n",
        "print('done')"
      ],
      "execution_count": 24,
      "outputs": [
        {
          "output_type": "stream",
          "text": [
            "\r  0%|          | 0/6 [00:00<?, ?it/s]"
          ],
          "name": "stderr"
        },
        {
          "output_type": "stream",
          "text": [
            "resizing test MASKS\n"
          ],
          "name": "stdout"
        },
        {
          "output_type": "stream",
          "text": [
            "100%|██████████| 6/6 [00:15<00:00,  2.59s/it]"
          ],
          "name": "stderr"
        },
        {
          "output_type": "stream",
          "text": [
            "done\n"
          ],
          "name": "stdout"
        },
        {
          "output_type": "stream",
          "text": [
            "\n"
          ],
          "name": "stderr"
        }
      ]
    },
    {
      "cell_type": "code",
      "metadata": {
        "colab": {
          "base_uri": "https://localhost:8080/",
          "height": 1000
        },
        "id": "GmPGIQ3o2iHa",
        "outputId": "e08c421c-40c2-43ec-af5a-ff42f12a0c5d"
      },
      "source": [
        "idx = random.randint(0, len(X_train))\n",
        "\n",
        "\n",
        "preds_train = model.predict(X_train[:int(X_train.shape[0]*0.9)], verbose=1)\n",
        "preds_val = model.predict(X_train[int(X_train.shape[0]*0.9):], verbose=1)\n",
        "preds_test = model.predict(X_test, verbose=1)\n",
        "\n",
        "\n",
        "preds_train_t = (preds_train > 0.5).astype(np.uint8)\n",
        "preds_val_t = (preds_val > 0.5).astype(np.uint8)\n",
        "preds_test_t = (preds_test > 0.5 ).astype(np.uint8)\n",
        "\n",
        "# Perform a sanity check on some random training samples\n",
        "ix = random.randint(0, len(preds_train_t))\n",
        "imshow(X_train[ix])\n",
        "plt.show()\n",
        "imshow(np.squeeze(Y_train[ix]))\n",
        "plt.show()\n",
        "imshow(np.squeeze(preds_train_t[ix]))\n",
        "plt.show()\n",
        "\n",
        "# Perform a sanity check on some random testing samples\n",
        "ix = random.randint(0, len(preds_test_t))\n",
        "imshow(X_test[ix])\n",
        "plt.show()\n",
        "#imshow(np.squeeze(Y_test[ix]))\n",
        "#plt.show()\n",
        "imshow(np.squeeze(preds_test_t[ix]))\n",
        "plt.show()\n",
        "\n",
        "# Perform a sanity check on some random testing samples\n",
        "ix = 4\n",
        "imshow(X_test[ix])\n",
        "plt.show()\n",
        "imshow(np.squeeze(Y_test[ix]))\n",
        "plt.show()\n",
        "#imshow(np.squeeze(Y_train[int(Y_train.shape[0]*0.9):][ix]))\n",
        "#plt.show()\n",
        "imshow(np.squeeze(preds_test_t[ix]))\n",
        "plt.show()\n"
      ],
      "execution_count": 25,
      "outputs": [
        {
          "output_type": "stream",
          "text": [
            "2/2 [==============================] - 5s 4s/step\n",
            "1/1 [==============================] - 0s 24ms/step\n",
            "1/1 [==============================] - 0s 24ms/step\n"
          ],
          "name": "stdout"
        },
        {
          "output_type": "display_data",
          "data": {
            "image/png": "[encoded data removed]",
            "text/plain": [
              "<Figure size 432x288 with 1 Axes>"
            ]
          },
          "metadata": {
            "tags": [],
            "needs_background": "light"
          }
        },
        {
          "output_type": "display_data",
          "data": {
            "image/png": "[encoded data removed]",
            "text/plain": [
              "<Figure size 432x288 with 1 Axes>"
            ]
          },
          "metadata": {
            "tags": [],
            "needs_background": "light"
          }
        },
        {
          "output_type": "stream",
          "text": [
            "/usr/local/lib/python3.7/dist-packages/skimage/io/_plugins/matplotlib_plugin.py:150: UserWarning: Low image data range; displaying image with stretched contrast.\n",
            "  lo, hi, cmap = _get_display_range(image)\n"
          ],
          "name": "stderr"
        },
        {
          "output_type": "display_data",
          "data": {
            "image/png": "[encoded data removed]",
            "text/plain": [
              "<Figure size 432x288 with 2 Axes>"
            ]
          },
          "metadata": {
            "tags": [],
            "needs_background": "light"
          }
        },
        {
          "output_type": "display_data",
          "data": {
            "image/png": "[encoded data removed]",
            "text/plain": [
              "<Figure size 432x288 with 1 Axes>"
            ]
          },
          "metadata": {
            "tags": [],
            "needs_background": "light"
          }
        },
        {
          "output_type": "display_data",
          "data": {
            "image/png": "[encoded data removed]",
            "text/plain": [
              "<Figure size 432x288 with 2 Axes>"
            ]
          },
          "metadata": {
            "tags": [],
            "needs_background": "light"
          }
        },
        {
          "output_type": "display_data",
          "data": {
            "image/png": "[encoded data removed]",
            "text/plain": [
              "<Figure size 432x288 with 1 Axes>"
            ]
          },
          "metadata": {
            "tags": [],
            "needs_background": "light"
          }
        },
        {
          "output_type": "display_data",
          "data": {
            "image/png": "[encoded data removed]",
            "text/plain": [
              "<Figure size 432x288 with 1 Axes>"
            ]
          },
          "metadata": {
            "tags": [],
            "needs_background": "light"
          }
        },
        {
          "output_type": "display_data",
          "data": {
            "image/png": "[encoded data removed]",
            "text/plain": [
              "<Figure size 432x288 with 2 Axes>"
            ]
          },
          "metadata": {
            "tags": [],
            "needs_background": "light"
          }
        }
      ]
    },
    {
      "cell_type": "code",
      "metadata": {
        "colab": {
          "base_uri": "https://localhost:8080/"
        },
        "id": "pQtRL3yVXYn2",
        "outputId": "5120303c-251f-476a-e498-2c20c4d1dbf5"
      },
      "source": [
        "model.evaluate(X_test, Y_test, return_dict= True)"
      ],
      "execution_count": 26,
      "outputs": [
        {
          "output_type": "stream",
          "text": [
            "1/1 [==============================] - 0s 169ms/step - loss: 0.0620 - accuracy: 0.9863\n"
          ],
          "name": "stdout"
        },
        {
          "output_type": "execute_result",
          "data": {
            "text/plain": [
              "{'accuracy': 0.9862874150276184, 'loss': 0.06200657784938812}"
            ]
          },
          "metadata": {
            "tags": []
          },
          "execution_count": 26
        }
      ]
    },
    {
      "cell_type": "code",
      "metadata": {
        "colab": {
          "base_uri": "https://localhost:8080/"
        },
        "id": "UW5gN26cXZUu",
        "outputId": "24a6c5fb-24f6-4748-d107-f75b237ede49"
      },
      "source": [
        "m = tf.keras.metrics.Recall()\n",
        "m.update_state( Y_test, preds_test, sample_weight=None)\n",
        "m.result().numpy()"
      ],
      "execution_count": 27,
      "outputs": [
        {
          "output_type": "execute_result",
          "data": {
            "text/plain": [
              "0.84428906"
            ]
          },
          "metadata": {
            "tags": []
          },
          "execution_count": 27
        }
      ]
    },
    {
      "cell_type": "code",
      "metadata": {
        "colab": {
          "base_uri": "https://localhost:8080/"
        },
        "id": "AOVZnB_pXbQQ",
        "outputId": "3f285e95-cad1-4ee4-e0a7-f5ad953c04f2"
      },
      "source": [
        "m = tf.keras.metrics.Precision()\n",
        "m.update_state( Y_test, preds_test, sample_weight=None)\n",
        "m.result().numpy()"
      ],
      "execution_count": 28,
      "outputs": [
        {
          "output_type": "execute_result",
          "data": {
            "text/plain": [
              "0.64106196"
            ]
          },
          "metadata": {
            "tags": []
          },
          "execution_count": 28
        }
      ]
    },
    {
      "cell_type": "code",
      "metadata": {
        "colab": {
          "base_uri": "https://localhost:8080/"
        },
        "id": "327yCVXPXdKN",
        "outputId": "f0ce8e9c-2323-45e2-c23a-47ad07eda687"
      },
      "source": [
        "m = tf.keras.metrics.MeanIoU(num_classes=2)\n",
        "m.update_state( Y_test, preds_test, sample_weight=None)\n",
        "m.result().numpy()"
      ],
      "execution_count": 29,
      "outputs": [
        {
          "output_type": "execute_result",
          "data": {
            "text/plain": [
              "0.5550408"
            ]
          },
          "metadata": {
            "tags": []
          },
          "execution_count": 29
        }
      ]
    },
    {
      "cell_type": "code",
      "metadata": {
        "id": "4uNd58jMTtzf",
        "colab": {
          "base_uri": "https://localhost:8080/"
        },
        "outputId": "0d14ceec-0ce5-43be-fc44-346ace6f58d5"
      },
      "source": [
        "# Save our model as saved_model format\n",
        "!mkdir -p saved_model\n",
        "model.save('saved_model/my_model')"
      ],
      "execution_count": 30,
      "outputs": [
        {
          "output_type": "stream",
          "text": [
            "INFO:tensorflow:Assets written to: saved_model/my_model/assets\n"
          ],
          "name": "stdout"
        }
      ]
    },
    {
      "cell_type": "code",
      "metadata": {
        "id": "WStQoeR773Cy",
        "colab": {
          "base_uri": "https://localhost:8080/"
        },
        "outputId": "8e4d682e-21c8-4eab-b81c-9627e61bf081"
      },
      "source": [
        "# Covert to Tensorflow Lite format \n",
        "converter = tf.lite.TFLiteConverter.from_saved_model('saved_model/my_model')\n",
        "tflite_model = converter.convert()\n",
        "open(\"Unet_testmodel.tflite\", \"wb\").write(tflite_model)"
      ],
      "execution_count": 31,
      "outputs": [
        {
          "output_type": "execute_result",
          "data": {
            "text/plain": [
              "124688724"
            ]
          },
          "metadata": {
            "tags": []
          },
          "execution_count": 31
        }
      ]
    }
  ]
}